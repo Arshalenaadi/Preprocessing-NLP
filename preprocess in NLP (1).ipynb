{
 "cells": [
  {
   "cell_type": "code",
   "execution_count": null,
   "metadata": {
    "id": "L_po5Gl-sU3r"
   },
   "outputs": [],
   "source": [
    "!pip install -U -q PyDrive\n",
    "from pydrive.auth import GoogleAuth\n",
    "from pydrive.drive import GoogleDrive\n",
    "from google.colab import auth\n",
    "from oauth2client.client import GoogleCredentials"
   ]
  },
  {
   "cell_type": "code",
   "execution_count": null,
   "metadata": {
    "colab": {
     "base_uri": "https://localhost:8080/",
     "height": 424
    },
    "id": "o--QVDdQtJSw",
    "outputId": "28955893-e946-4b0f-e273-b1bcdffa328f"
   },
   "outputs": [
    {
     "data": {
      "text/html": [
       "\n",
       "  <div id=\"df-17ea6c08-597f-45aa-8e1b-b2e707c1c64d\">\n",
       "    <div class=\"colab-df-container\">\n",
       "      <div>\n",
       "<style scoped>\n",
       "    .dataframe tbody tr th:only-of-type {\n",
       "        vertical-align: middle;\n",
       "    }\n",
       "\n",
       "    .dataframe tbody tr th {\n",
       "        vertical-align: top;\n",
       "    }\n",
       "\n",
       "    .dataframe thead th {\n",
       "        text-align: right;\n",
       "    }\n",
       "</style>\n",
       "<table border=\"1\" class=\"dataframe\">\n",
       "  <thead>\n",
       "    <tr style=\"text-align: right;\">\n",
       "      <th></th>\n",
       "      <th>test_id</th>\n",
       "      <th>question1</th>\n",
       "      <th>question2</th>\n",
       "    </tr>\n",
       "  </thead>\n",
       "  <tbody>\n",
       "    <tr>\n",
       "      <th>0</th>\n",
       "      <td>0</td>\n",
       "      <td>How does the Surface Pro himself 4 compare wit...</td>\n",
       "      <td>Why did Microsoft choose core m3 and not core ...</td>\n",
       "    </tr>\n",
       "    <tr>\n",
       "      <th>1</th>\n",
       "      <td>1</td>\n",
       "      <td>Should I have a hair transplant at age 24? How...</td>\n",
       "      <td>How much cost does hair transplant require?</td>\n",
       "    </tr>\n",
       "    <tr>\n",
       "      <th>2</th>\n",
       "      <td>2</td>\n",
       "      <td>What but is the best way to send money from Ch...</td>\n",
       "      <td>What you send money to China?</td>\n",
       "    </tr>\n",
       "    <tr>\n",
       "      <th>3</th>\n",
       "      <td>3</td>\n",
       "      <td>Which food not emulsifiers?</td>\n",
       "      <td>What foods fibre?</td>\n",
       "    </tr>\n",
       "    <tr>\n",
       "      <th>4</th>\n",
       "      <td>4</td>\n",
       "      <td>How \"aberystwyth\" start reading?</td>\n",
       "      <td>How their can I start reading?</td>\n",
       "    </tr>\n",
       "    <tr>\n",
       "      <th>...</th>\n",
       "      <td>...</td>\n",
       "      <td>...</td>\n",
       "      <td>...</td>\n",
       "    </tr>\n",
       "    <tr>\n",
       "      <th>995</th>\n",
       "      <td>995</td>\n",
       "      <td>How is RAU's IAS study circle (Bangalore branc...</td>\n",
       "      <td>How Rau's IAS Study Circle in the Bangalore br...</td>\n",
       "    </tr>\n",
       "    <tr>\n",
       "      <th>996</th>\n",
       "      <td>996</td>\n",
       "      <td>How NFL, can you try to kick a field goal on a...</td>\n",
       "      <td>What is the point of having good on the NFL go...</td>\n",
       "    </tr>\n",
       "    <tr>\n",
       "      <th>997</th>\n",
       "      <td>997</td>\n",
       "      <td>How do is campus life at St. Thomas College of...</td>\n",
       "      <td>How is campus life layer placements at St Thom...</td>\n",
       "    </tr>\n",
       "    <tr>\n",
       "      <th>998</th>\n",
       "      <td>998</td>\n",
       "      <td>How do I earn money with prefer?</td>\n",
       "      <td>What is on YouTube?</td>\n",
       "    </tr>\n",
       "    <tr>\n",
       "      <th>999</th>\n",
       "      <td>999</td>\n",
       "      <td>How would you out like to spend your last day?</td>\n",
       "      <td>How would you spend your last countries at MNNIT?</td>\n",
       "    </tr>\n",
       "  </tbody>\n",
       "</table>\n",
       "<p>1000 rows × 3 columns</p>\n",
       "</div>\n",
       "      <button class=\"colab-df-convert\" onclick=\"convertToInteractive('df-17ea6c08-597f-45aa-8e1b-b2e707c1c64d')\"\n",
       "              title=\"Convert this dataframe to an interactive table.\"\n",
       "              style=\"display:none;\">\n",
       "        \n",
       "  <svg xmlns=\"http://www.w3.org/2000/svg\" height=\"24px\"viewBox=\"0 0 24 24\"\n",
       "       width=\"24px\">\n",
       "    <path d=\"M0 0h24v24H0V0z\" fill=\"none\"/>\n",
       "    <path d=\"M18.56 5.44l.94 2.06.94-2.06 2.06-.94-2.06-.94-.94-2.06-.94 2.06-2.06.94zm-11 1L8.5 8.5l.94-2.06 2.06-.94-2.06-.94L8.5 2.5l-.94 2.06-2.06.94zm10 10l.94 2.06.94-2.06 2.06-.94-2.06-.94-.94-2.06-.94 2.06-2.06.94z\"/><path d=\"M17.41 7.96l-1.37-1.37c-.4-.4-.92-.59-1.43-.59-.52 0-1.04.2-1.43.59L10.3 9.45l-7.72 7.72c-.78.78-.78 2.05 0 2.83L4 21.41c.39.39.9.59 1.41.59.51 0 1.02-.2 1.41-.59l7.78-7.78 2.81-2.81c.8-.78.8-2.07 0-2.86zM5.41 20L4 18.59l7.72-7.72 1.47 1.35L5.41 20z\"/>\n",
       "  </svg>\n",
       "      </button>\n",
       "      \n",
       "  <style>\n",
       "    .colab-df-container {\n",
       "      display:flex;\n",
       "      flex-wrap:wrap;\n",
       "      gap: 12px;\n",
       "    }\n",
       "\n",
       "    .colab-df-convert {\n",
       "      background-color: #E8F0FE;\n",
       "      border: none;\n",
       "      border-radius: 50%;\n",
       "      cursor: pointer;\n",
       "      display: none;\n",
       "      fill: #1967D2;\n",
       "      height: 32px;\n",
       "      padding: 0 0 0 0;\n",
       "      width: 32px;\n",
       "    }\n",
       "\n",
       "    .colab-df-convert:hover {\n",
       "      background-color: #E2EBFA;\n",
       "      box-shadow: 0px 1px 2px rgba(60, 64, 67, 0.3), 0px 1px 3px 1px rgba(60, 64, 67, 0.15);\n",
       "      fill: #174EA6;\n",
       "    }\n",
       "\n",
       "    [theme=dark] .colab-df-convert {\n",
       "      background-color: #3B4455;\n",
       "      fill: #D2E3FC;\n",
       "    }\n",
       "\n",
       "    [theme=dark] .colab-df-convert:hover {\n",
       "      background-color: #434B5C;\n",
       "      box-shadow: 0px 1px 3px 1px rgba(0, 0, 0, 0.15);\n",
       "      filter: drop-shadow(0px 1px 2px rgba(0, 0, 0, 0.3));\n",
       "      fill: #FFFFFF;\n",
       "    }\n",
       "  </style>\n",
       "\n",
       "      <script>\n",
       "        const buttonEl =\n",
       "          document.querySelector('#df-17ea6c08-597f-45aa-8e1b-b2e707c1c64d button.colab-df-convert');\n",
       "        buttonEl.style.display =\n",
       "          google.colab.kernel.accessAllowed ? 'block' : 'none';\n",
       "\n",
       "        async function convertToInteractive(key) {\n",
       "          const element = document.querySelector('#df-17ea6c08-597f-45aa-8e1b-b2e707c1c64d');\n",
       "          const dataTable =\n",
       "            await google.colab.kernel.invokeFunction('convertToInteractive',\n",
       "                                                     [key], {});\n",
       "          if (!dataTable) return;\n",
       "\n",
       "          const docLinkHtml = 'Like what you see? Visit the ' +\n",
       "            '<a target=\"_blank\" href=https://colab.research.google.com/notebooks/data_table.ipynb>data table notebook</a>'\n",
       "            + ' to learn more about interactive tables.';\n",
       "          element.innerHTML = '';\n",
       "          dataTable['output_type'] = 'display_data';\n",
       "          await google.colab.output.renderOutput(dataTable, element);\n",
       "          const docLink = document.createElement('div');\n",
       "          docLink.innerHTML = docLinkHtml;\n",
       "          element.appendChild(docLink);\n",
       "        }\n",
       "      </script>\n",
       "    </div>\n",
       "  </div>\n",
       "  "
      ],
      "text/plain": [
       "     test_id                                          question1  \\\n",
       "0          0  How does the Surface Pro himself 4 compare wit...   \n",
       "1          1  Should I have a hair transplant at age 24? How...   \n",
       "2          2  What but is the best way to send money from Ch...   \n",
       "3          3                        Which food not emulsifiers?   \n",
       "4          4                   How \"aberystwyth\" start reading?   \n",
       "..       ...                                                ...   \n",
       "995      995  How is RAU's IAS study circle (Bangalore branc...   \n",
       "996      996  How NFL, can you try to kick a field goal on a...   \n",
       "997      997  How do is campus life at St. Thomas College of...   \n",
       "998      998                   How do I earn money with prefer?   \n",
       "999      999     How would you out like to spend your last day?   \n",
       "\n",
       "                                             question2  \n",
       "0    Why did Microsoft choose core m3 and not core ...  \n",
       "1          How much cost does hair transplant require?  \n",
       "2                        What you send money to China?  \n",
       "3                                    What foods fibre?  \n",
       "4                       How their can I start reading?  \n",
       "..                                                 ...  \n",
       "995  How Rau's IAS Study Circle in the Bangalore br...  \n",
       "996  What is the point of having good on the NFL go...  \n",
       "997  How is campus life layer placements at St Thom...  \n",
       "998                                What is on YouTube?  \n",
       "999  How would you spend your last countries at MNNIT?  \n",
       "\n",
       "[1000 rows x 3 columns]"
      ]
     },
     "execution_count": 11,
     "metadata": {},
     "output_type": "execute_result"
    }
   ],
   "source": [
    "import pandas as pd\n",
    " \n",
    "df = pd.read_csv(\"/content/test.csv\", nrows=1000)\n",
    "df\n"
   ]
  },
  {
   "cell_type": "code",
   "execution_count": null,
   "metadata": {
    "colab": {
     "base_uri": "https://localhost:8080/"
    },
    "id": "pDdgIrxuwMLj",
    "outputId": "3bbe9ecd-916d-4001-ee6a-153f2ec45da4"
   },
   "outputs": [
    {
     "data": {
      "text/plain": [
       "(1000, 3)"
      ]
     },
     "execution_count": 12,
     "metadata": {},
     "output_type": "execute_result"
    }
   ],
   "source": [
    "df.shape"
   ]
  },
  {
   "cell_type": "code",
   "execution_count": null,
   "metadata": {
    "id": "KMb1k_WRw2r8"
   },
   "outputs": [],
   "source": [
    "import gensim \n",
    "\n",
    "from gensim.models import Word2Vec"
   ]
  },
  {
   "cell_type": "code",
   "execution_count": null,
   "metadata": {
    "id": "j7wdn353w-7y"
   },
   "outputs": [],
   "source": [
    "def read_questions(row,column_name):\n",
    "    return gensim.utils.simple_preprocess(str(row[column_name]).encode('utf-8'))\n",
    "    \n",
    "documents = []\n",
    "for index, row in df.iterrows():\n",
    "    documents.append(read_questions(row,\"question1\"))\n",
    "    if row['question1'] in row['question2']:\n",
    "        documents.append(read_questions(row,\"question2\"))\n",
    "    "
   ]
  },
  {
   "cell_type": "code",
   "execution_count": null,
   "metadata": {
    "colab": {
     "base_uri": "https://localhost:8080/"
    },
    "id": "uax1tVKp5UI2",
    "outputId": "04d50c6b-9f7b-4ddd-91c8-bb30e1dac15d"
   },
   "outputs": [
    {
     "name": "stdout",
     "output_type": "stream",
     "text": [
      "List of lists. Let's confirm:  <class 'list'>  of  <class 'list'>\n"
     ]
    }
   ],
   "source": [
    "print(\"List of lists. Let's confirm: \", type(documents), \" of \", type(documents[0]))"
   ]
  },
  {
   "cell_type": "code",
   "execution_count": null,
   "metadata": {
    "id": "OX7IqKgw5dh5"
   },
   "outputs": [],
   "source": [
    "model = gensim.models.Word2Vec(size=150, window=10, min_count=2, sg=1, workers=10)\n",
    "model.build_vocab(documents)"
   ]
  },
  {
   "cell_type": "code",
   "execution_count": null,
   "metadata": {
    "colab": {
     "base_uri": "https://localhost:8080/"
    },
    "id": "pL7LsSdP5ktF",
    "outputId": "3bcf2923-767c-48a2-ab71-71d6cd941244"
   },
   "outputs": [
    {
     "data": {
      "text/plain": [
       "(27360, 51460)"
      ]
     },
     "execution_count": 44,
     "metadata": {},
     "output_type": "execute_result"
    }
   ],
   "source": [
    "import warnings\n",
    "warnings.filterwarnings(\"ignore\")\n",
    "model.train(sentences=documents, total_examples=len(documents), epochs=model.iter)"
   ]
  },
  {
   "cell_type": "code",
   "execution_count": null,
   "metadata": {
    "colab": {
     "base_uri": "https://localhost:8080/"
    },
    "id": "XXlYuIn78GDo",
    "outputId": "8ee75d88-4962-4a2c-fd02-d4233219f971"
   },
   "outputs": [
    {
     "name": "stdout",
     "output_type": "stream",
     "text": [
      "how\n",
      "does\n",
      "the\n",
      "pro\n",
      "himself\n",
      "with\n",
      "ipad\n",
      "should\n",
      "have\n",
      "hair\n"
     ]
    }
   ],
   "source": [
    "word_vectors = model.wv\n",
    "count = 0\n",
    "for word in word_vectors.vocab:\n",
    "    if count<10:\n",
    "        print(word)\n",
    "        count += 1\n",
    "    else:\n",
    "        break"
   ]
  },
  {
   "cell_type": "code",
   "execution_count": null,
   "metadata": {
    "colab": {
     "base_uri": "https://localhost:8080/"
    },
    "id": "f676F6ss5lsT",
    "outputId": "26432bc4-0205-4d93-d2cc-2f5379a77f08"
   },
   "outputs": [
    {
     "data": {
      "text/plain": [
       "1036"
      ]
     },
     "execution_count": 47,
     "metadata": {},
     "output_type": "execute_result"
    }
   ],
   "source": [
    "len(word_vectors.vocab)"
   ]
  },
  {
   "cell_type": "code",
   "execution_count": null,
   "metadata": {
    "colab": {
     "base_uri": "https://localhost:8080/"
    },
    "id": "S6ePWft5BZhq",
    "outputId": "bbf0517c-9bda-46ae-f65f-99b40f11238b"
   },
   "outputs": [
    {
     "data": {
      "text/plain": [
       "150"
      ]
     },
     "execution_count": 50,
     "metadata": {},
     "output_type": "execute_result"
    }
   ],
   "source": [
    "vector = model.wv[\"ipad\"]  # numpy vector of a word\n",
    "len(vector)"
   ]
  },
  {
   "cell_type": "code",
   "execution_count": 51,
   "metadata": {
    "colab": {
     "base_uri": "https://localhost:8080/"
    },
    "id": "cVaDc5eOREk5",
    "outputId": "cd983649-91f1-4693-a9cf-b8482f4856b6"
   },
   "outputs": [
    {
     "data": {
      "text/plain": [
       "array([ 0.00794638,  0.04338106, -0.03880892, -0.07156917, -0.05847612,\n",
       "        0.16747649, -0.00304395,  0.03460117,  0.12721245,  0.07915718,\n",
       "       -0.15663475,  0.00511145,  0.08673151,  0.08659643, -0.03105988,\n",
       "        0.00596614,  0.07139035, -0.00251018,  0.02488132,  0.12504572,\n",
       "       -0.1121119 ,  0.05641247, -0.03725784, -0.01942691, -0.02786348,\n",
       "        0.02713713,  0.02154482,  0.0527408 ,  0.020251  , -0.02730941,\n",
       "        0.10377947, -0.02975589,  0.01218577, -0.03991265,  0.0136402 ,\n",
       "       -0.00874404, -0.08064378,  0.0108214 ,  0.06180128,  0.05433092,\n",
       "       -0.02728837,  0.10504122, -0.01545786,  0.04692714, -0.09455631,\n",
       "       -0.06910097,  0.00644476, -0.01518245,  0.03953103,  0.05293074,\n",
       "       -0.02887705,  0.09690926,  0.06689048, -0.0335815 ,  0.06796919,\n",
       "        0.11351245,  0.10555493,  0.04319363,  0.0756511 , -0.00337502,\n",
       "       -0.00749293,  0.01923547, -0.08036407, -0.06354385, -0.03062343,\n",
       "        0.01186073,  0.01050739,  0.11536524, -0.00252203,  0.01233947,\n",
       "        0.11476725,  0.03129193,  0.00684609, -0.00831071,  0.0035864 ,\n",
       "       -0.02072292,  0.02269383,  0.07419173,  0.1378644 ,  0.15884879,\n",
       "       -0.11378058,  0.09741155,  0.07090357,  0.05576108, -0.09040782,\n",
       "        0.01350728, -0.09059136,  0.14878237, -0.12599543, -0.03486761,\n",
       "        0.05918278,  0.01650629, -0.05703393,  0.05305055,  0.1291481 ,\n",
       "        0.05702846, -0.10682171,  0.11928438,  0.03471133,  0.04136866,\n",
       "        0.03718023,  0.03032315, -0.06880332, -0.05163612, -0.14803196,\n",
       "       -0.13956365,  0.06290019,  0.02682594, -0.1039245 ,  0.19800515,\n",
       "        0.1242679 ,  0.00478385,  0.00943841, -0.00105952,  0.06805018,\n",
       "        0.07073326, -0.04451002,  0.03559657,  0.07505379, -0.00290914,\n",
       "        0.00734224,  0.03701049, -0.00714552,  0.05808986,  0.07309254,\n",
       "        0.08809981,  0.00029687,  0.0455826 ,  0.00971727,  0.04227938,\n",
       "       -0.06602579,  0.00255401,  0.1139126 , -0.04622617, -0.07792833,\n",
       "        0.04705885, -0.04243905,  0.01263089,  0.01865532,  0.00890658,\n",
       "        0.05337264,  0.03832584,  0.12257432, -0.0410356 , -0.04267711,\n",
       "       -0.05738153, -0.15018459, -0.08121529,  0.0359933 , -0.11815804],\n",
       "      dtype=float32)"
      ]
     },
     "execution_count": 51,
     "metadata": {},
     "output_type": "execute_result"
    }
   ],
   "source": [
    "vector"
   ]
  },
  {
   "cell_type": "code",
   "execution_count": 52,
   "metadata": {
    "colab": {
     "base_uri": "https://localhost:8080/"
    },
    "id": "ut8phmfORPcl",
    "outputId": "16f1e6b5-c177-41ff-9348-eac3b9c7b76c"
   },
   "outputs": [
    {
     "data": {
      "text/plain": [
       "{'affect': <gensim.models.keyedvectors.Vocab at 0x7f8dc8bb6290>,\n",
       " 'after': <gensim.models.keyedvectors.Vocab at 0x7f8dc8c9c4d0>,\n",
       " 'against': <gensim.models.keyedvectors.Vocab at 0x7f8dc8c9c310>,\n",
       " 'age': <gensim.models.keyedvectors.Vocab at 0x7f8dc8c8da10>,\n",
       " 'all': <gensim.models.keyedvectors.Vocab at 0x7f8dc8c9c450>,\n",
       " 'am': <gensim.models.keyedvectors.Vocab at 0x7f8dc8bb6090>,\n",
       " 'an': <gensim.models.keyedvectors.Vocab at 0x7f8dc8bb6790>,\n",
       " 'and': <gensim.models.keyedvectors.Vocab at 0x7f8dc8c9c210>,\n",
       " 'android': <gensim.models.keyedvectors.Vocab at 0x7f8dc8c9c850>,\n",
       " 'anything': <gensim.models.keyedvectors.Vocab at 0x7f8dc8c9c750>,\n",
       " 'app': <gensim.models.keyedvectors.Vocab at 0x7f8dc8c9c7d0>,\n",
       " 'are': <gensim.models.keyedvectors.Vocab at 0x7f8dc8c8df10>,\n",
       " 'army': <gensim.models.keyedvectors.Vocab at 0x7f8dc8bb6cd0>,\n",
       " 'at': <gensim.models.keyedvectors.Vocab at 0x7f8dc8c8d9d0>,\n",
       " 'ba': <gensim.models.keyedvectors.Vocab at 0x7f8dc8bb68d0>,\n",
       " 'batman': <gensim.models.keyedvectors.Vocab at 0x7f8dc8c9cc50>,\n",
       " 'be': <gensim.models.keyedvectors.Vocab at 0x7f8dc8bb6590>,\n",
       " 'belly': <gensim.models.keyedvectors.Vocab at 0x7f8dc8c9c090>,\n",
       " 'best': <gensim.models.keyedvectors.Vocab at 0x7f8dc8c8db90>,\n",
       " 'between': <gensim.models.keyedvectors.Vocab at 0x7f8dc8bb6350>,\n",
       " 'black': <gensim.models.keyedvectors.Vocab at 0x7f8dc8c9c390>,\n",
       " 'books': <gensim.models.keyedvectors.Vocab at 0x7f8dc8c9c3d0>,\n",
       " 'boy': <gensim.models.keyedvectors.Vocab at 0x7f8dc8c9c5d0>,\n",
       " 'break': <gensim.models.keyedvectors.Vocab at 0x7f8dc8bb6ad0>,\n",
       " 'but': <gensim.models.keyedvectors.Vocab at 0x7f8dc8c8dbd0>,\n",
       " 'buy': <gensim.models.keyedvectors.Vocab at 0x7f8dc8c9cdd0>,\n",
       " 'by': <gensim.models.keyedvectors.Vocab at 0x7f8dc8c9c190>,\n",
       " 'can': <gensim.models.keyedvectors.Vocab at 0x7f8dc8c8dfd0>,\n",
       " 'chance': <gensim.models.keyedvectors.Vocab at 0x7f8dc8bb62d0>,\n",
       " 'china': <gensim.models.keyedvectors.Vocab at 0x7f8dc8c8dd50>,\n",
       " 'class': <gensim.models.keyedvectors.Vocab at 0x7f8dc8bb6190>,\n",
       " 'computer': <gensim.models.keyedvectors.Vocab at 0x7f8dc8bb6610>,\n",
       " 'concentrate': <gensim.models.keyedvectors.Vocab at 0x7f8dc8c9ced0>,\n",
       " 'cost': <gensim.models.keyedvectors.Vocab at 0x7f8dc8c8da90>,\n",
       " 'cricket': <gensim.models.keyedvectors.Vocab at 0x7f8dc8c9ca10>,\n",
       " 'diet': <gensim.models.keyedvectors.Vocab at 0x7f8dc8c9c150>,\n",
       " 'differences': <gensim.models.keyedvectors.Vocab at 0x7f8dc8bb6390>,\n",
       " 'dilute': <gensim.models.keyedvectors.Vocab at 0x7f8dc8bb6950>,\n",
       " 'do': <gensim.models.keyedvectors.Vocab at 0x7f8dc8c9cb50>,\n",
       " 'doctor': <gensim.models.keyedvectors.Vocab at 0x7f8dc8bb69d0>,\n",
       " 'does': <gensim.models.keyedvectors.Vocab at 0x7f8dc8c8d590>,\n",
       " 'done': <gensim.models.keyedvectors.Vocab at 0x7f8dc8bb6b90>,\n",
       " 'eat': <gensim.models.keyedvectors.Vocab at 0x7f8dc8bb6410>,\n",
       " 'economics': <gensim.models.keyedvectors.Vocab at 0x7f8dc8bb6910>,\n",
       " 'eye': <gensim.models.keyedvectors.Vocab at 0x7f8dc8c9cf90>,\n",
       " 'face': <gensim.models.keyedvectors.Vocab at 0x7f8dc8bb6050>,\n",
       " 'facebook': <gensim.models.keyedvectors.Vocab at 0x7f8dc8c9c910>,\n",
       " 'fall': <gensim.models.keyedvectors.Vocab at 0x7f8dc8bb6850>,\n",
       " 'fat': <gensim.models.keyedvectors.Vocab at 0x7f8dc8c9c0d0>,\n",
       " 'first': <gensim.models.keyedvectors.Vocab at 0x7f8dc8bb65d0>,\n",
       " 'food': <gensim.models.keyedvectors.Vocab at 0x7f8dc8c8de10>,\n",
       " 'for': <gensim.models.keyedvectors.Vocab at 0x7f8dc8c9c810>,\n",
       " 'from': <gensim.models.keyedvectors.Vocab at 0x7f8dc8c8dd10>,\n",
       " 'get': <gensim.models.keyedvectors.Vocab at 0x7f8dc8c9cc90>,\n",
       " 'girl': <gensim.models.keyedvectors.Vocab at 0x7f8dc8c9c690>,\n",
       " 'goes': <gensim.models.keyedvectors.Vocab at 0x7f8dc8c9cad0>,\n",
       " 'good': <gensim.models.keyedvectors.Vocab at 0x7f8dc8bb66d0>,\n",
       " 'google': <gensim.models.keyedvectors.Vocab at 0x7f8dc8c9c8d0>,\n",
       " 'hacking': <gensim.models.keyedvectors.Vocab at 0x7f8dc8bb6450>,\n",
       " 'had': <gensim.models.keyedvectors.Vocab at 0x7f8dc8c9c610>,\n",
       " 'hair': <gensim.models.keyedvectors.Vocab at 0x7f8dc8c8d910>,\n",
       " 'has': <gensim.models.keyedvectors.Vocab at 0x7f8dc8bb6b50>,\n",
       " 'have': <gensim.models.keyedvectors.Vocab at 0x7f8dc8c8d850>,\n",
       " 'her': <gensim.models.keyedvectors.Vocab at 0x7f8dc8c9c6d0>,\n",
       " 'high': <gensim.models.keyedvectors.Vocab at 0x7f8dc8bb6710>,\n",
       " 'himself': <gensim.models.keyedvectors.Vocab at 0x7f8dc8c8d8d0>,\n",
       " 'hits': <gensim.models.keyedvectors.Vocab at 0x7f8dc8c9ca50>,\n",
       " 'how': <gensim.models.keyedvectors.Vocab at 0x7f8dc8c8d650>,\n",
       " 'hydrochloric': <gensim.models.keyedvectors.Vocab at 0x7f8dc8bb6990>,\n",
       " 'if': <gensim.models.keyedvectors.Vocab at 0x7f8dc8c9c9d0>,\n",
       " 'improve': <gensim.models.keyedvectors.Vocab at 0x7f8dc8bb6d10>,\n",
       " 'in': <gensim.models.keyedvectors.Vocab at 0x7f8dc8c9cd10>,\n",
       " 'information': <gensim.models.keyedvectors.Vocab at 0x7f8dc8bb6bd0>,\n",
       " 'insurance': <gensim.models.keyedvectors.Vocab at 0x7f8dc8c8df90>,\n",
       " 'ipad': <gensim.models.keyedvectors.Vocab at 0x7f8dc8c8d950>,\n",
       " 'is': <gensim.models.keyedvectors.Vocab at 0x7f8dc8c8dc10>,\n",
       " 'issue': <gensim.models.keyedvectors.Vocab at 0x7f8dc8c9c350>,\n",
       " 'it': <gensim.models.keyedvectors.Vocab at 0x7f8dc8c8db10>,\n",
       " 'just': <gensim.models.keyedvectors.Vocab at 0x7f8dc8c9cb10>,\n",
       " 'kill': <gensim.models.keyedvectors.Vocab at 0x7f8dc8c9ccd0>,\n",
       " 'language': <gensim.models.keyedvectors.Vocab at 0x7f8dc8bb6650>,\n",
       " 'learn': <gensim.models.keyedvectors.Vocab at 0x7f8dc8c9cbd0>,\n",
       " 'leave': <gensim.models.keyedvectors.Vocab at 0x7f8dc8bb6c90>,\n",
       " 'like': <gensim.models.keyedvectors.Vocab at 0x7f8dc8bb6510>,\n",
       " 'living': <gensim.models.keyedvectors.Vocab at 0x7f8dc8bb6150>,\n",
       " 'low': <gensim.models.keyedvectors.Vocab at 0x7f8dc8bb6810>,\n",
       " 'matter': <gensim.models.keyedvectors.Vocab at 0x7f8dc8bb61d0>,\n",
       " 'mit': <gensim.models.keyedvectors.Vocab at 0x7f8dc8bb6210>,\n",
       " 'money': <gensim.models.keyedvectors.Vocab at 0x7f8dc8c8dcd0>,\n",
       " 'much': <gensim.models.keyedvectors.Vocab at 0x7f8dc8c8da50>,\n",
       " 'my': <gensim.models.keyedvectors.Vocab at 0x7f8dc8c9c050>,\n",
       " 'not': <gensim.models.keyedvectors.Vocab at 0x7f8dc8c8de90>,\n",
       " 'notes': <gensim.models.keyedvectors.Vocab at 0x7f8dc8c9c290>,\n",
       " 'of': <gensim.models.keyedvectors.Vocab at 0x7f8dc8c9c410>,\n",
       " 'old': <gensim.models.keyedvectors.Vocab at 0x7f8dc8c9c590>,\n",
       " 'on': <gensim.models.keyedvectors.Vocab at 0x7f8dc8bb6750>,\n",
       " 'out': <gensim.models.keyedvectors.Vocab at 0x7f8dc8c9cfd0>,\n",
       " 'people': <gensim.models.keyedvectors.Vocab at 0x7f8dc8bb64d0>,\n",
       " 'planning': <gensim.models.keyedvectors.Vocab at 0x7f8dc8c9c2d0>,\n",
       " 'possible': <gensim.models.keyedvectors.Vocab at 0x7f8dc8bb6310>,\n",
       " 'price': <gensim.models.keyedvectors.Vocab at 0x7f8dc8c9ce90>,\n",
       " 'pro': <gensim.models.keyedvectors.Vocab at 0x7f8dc8c8d7d0>,\n",
       " 'problem': <gensim.models.keyedvectors.Vocab at 0x7f8dc8bb6110>,\n",
       " 'reading': <gensim.models.keyedvectors.Vocab at 0x7f8dc8c8de50>,\n",
       " 'rupee': <gensim.models.keyedvectors.Vocab at 0x7f8dc8c9c250>,\n",
       " 'scrapping': <gensim.models.keyedvectors.Vocab at 0x7f8dc8c9c1d0>,\n",
       " 'selling': <gensim.models.keyedvectors.Vocab at 0x7f8dc8bb6690>,\n",
       " 'sentence': <gensim.models.keyedvectors.Vocab at 0x7f8dc8bb6c50>,\n",
       " 'services': <gensim.models.keyedvectors.Vocab at 0x7f8dc8c9c890>,\n",
       " 'sex': <gensim.models.keyedvectors.Vocab at 0x7f8dc8c9c650>,\n",
       " 'should': <gensim.models.keyedvectors.Vocab at 0x7f8dc8c8d990>,\n",
       " 'song': <gensim.models.keyedvectors.Vocab at 0x7f8dc8bb6a50>,\n",
       " 'spacex': <gensim.models.keyedvectors.Vocab at 0x7f8dc8c9ce10>,\n",
       " 'start': <gensim.models.keyedvectors.Vocab at 0x7f8dc8c8ded0>,\n",
       " 'still': <gensim.models.keyedvectors.Vocab at 0x7f8dc8bb60d0>,\n",
       " 'stock': <gensim.models.keyedvectors.Vocab at 0x7f8dc8c9ce50>,\n",
       " 'stomach': <gensim.models.keyedvectors.Vocab at 0x7f8dc8bb67d0>,\n",
       " 'study': <gensim.models.keyedvectors.Vocab at 0x7f8dc8bb6890>,\n",
       " 'suck': <gensim.models.keyedvectors.Vocab at 0x7f8dc8c9cf10>,\n",
       " 'superman': <gensim.models.keyedvectors.Vocab at 0x7f8dc8c9cd50>,\n",
       " 'tax': <gensim.models.keyedvectors.Vocab at 0x7f8dc8bb6550>,\n",
       " 'th': <gensim.models.keyedvectors.Vocab at 0x7f8dc8c9c510>,\n",
       " 'the': <gensim.models.keyedvectors.Vocab at 0x7f8dc8c8d810>,\n",
       " 'then': <gensim.models.keyedvectors.Vocab at 0x7f8dc8c9ca90>,\n",
       " 'there': <gensim.models.keyedvectors.Vocab at 0x7f8dc8c9c710>,\n",
       " 'thing': <gensim.models.keyedvectors.Vocab at 0x7f8dc8bb6a90>,\n",
       " 'through': <gensim.models.keyedvectors.Vocab at 0x7f8dc8c9c110>,\n",
       " 'time': <gensim.models.keyedvectors.Vocab at 0x7f8dc8c9c490>,\n",
       " 'to': <gensim.models.keyedvectors.Vocab at 0x7f8dc8c8dc90>,\n",
       " 'twitter': <gensim.models.keyedvectors.Vocab at 0x7f8dc8c9c990>,\n",
       " 'two': <gensim.models.keyedvectors.Vocab at 0x7f8dc8c8df50>,\n",
       " 'up': <gensim.models.keyedvectors.Vocab at 0x7f8dc8bb6b10>,\n",
       " 'us': <gensim.models.keyedvectors.Vocab at 0x7f8dc8c8dd90>,\n",
       " 'used': <gensim.models.keyedvectors.Vocab at 0x7f8dc8bb6c10>,\n",
       " 'want': <gensim.models.keyedvectors.Vocab at 0x7f8dc8bb63d0>,\n",
       " 'way': <gensim.models.keyedvectors.Vocab at 0x7f8dc8c8dc50>,\n",
       " 'what': <gensim.models.keyedvectors.Vocab at 0x7f8dc8c8db50>,\n",
       " 'when': <gensim.models.keyedvectors.Vocab at 0x7f8dc8c9cd90>,\n",
       " 'where': <gensim.models.keyedvectors.Vocab at 0x7f8dc8bb6490>,\n",
       " 'which': <gensim.models.keyedvectors.Vocab at 0x7f8dc8c8ddd0>,\n",
       " 'who': <gensim.models.keyedvectors.Vocab at 0x7f8dc8bb6a10>,\n",
       " 'why': <gensim.models.keyedvectors.Vocab at 0x7f8dc8c9cc10>,\n",
       " 'will': <gensim.models.keyedvectors.Vocab at 0x7f8dc8bb6250>,\n",
       " 'with': <gensim.models.keyedvectors.Vocab at 0x7f8dc8c8d890>,\n",
       " 'would': <gensim.models.keyedvectors.Vocab at 0x7f8dc8c8dad0>,\n",
       " 'wrong': <gensim.models.keyedvectors.Vocab at 0x7f8dc8c9c790>,\n",
       " 'years': <gensim.models.keyedvectors.Vocab at 0x7f8dc8c9c550>,\n",
       " 'you': <gensim.models.keyedvectors.Vocab at 0x7f8dc8c9cb90>,\n",
       " 'your': <gensim.models.keyedvectors.Vocab at 0x7f8dc8c9cf50>,\n",
       " 'youtube': <gensim.models.keyedvectors.Vocab at 0x7f8dc8c9c950>}"
      ]
     },
     "execution_count": 52,
     "metadata": {},
     "output_type": "execute_result"
    }
   ],
   "source": [
    "wanted_words = []\n",
    "count = 0\n",
    "for word in word_vectors.vocab:\n",
    "    if count<150:\n",
    "        wanted_words.append(word)\n",
    "        count += 1\n",
    "    else:\n",
    "        break\n",
    "wanted_vocab = dict((k, word_vectors.vocab[k]) for k in wanted_words if k in word_vectors.vocab)\n",
    "wanted_vocab"
   ]
  },
  {
   "cell_type": "code",
   "execution_count": 53,
   "metadata": {
    "id": "F-U3G3BlRYvy"
   },
   "outputs": [],
   "source": [
    "from sklearn.manifold import TSNE\n",
    "%matplotlib inline\n",
    "from matplotlib import pyplot as plt"
   ]
  },
  {
   "cell_type": "code",
   "execution_count": 54,
   "metadata": {
    "id": "BOqW-uxIRdF4"
   },
   "outputs": [],
   "source": [
    "X = model[wanted_vocab] # X is an array of word vectors, each vector containing 150 tokens\n",
    "tsne_model = TSNE(perplexity=40, n_components=2, init=\"pca\", n_iter=5000, random_state=23)\n",
    "Y = tsne_model.fit_transform(X)"
   ]
  },
  {
   "cell_type": "code",
   "execution_count": 60,
   "metadata": {
    "colab": {
     "base_uri": "https://localhost:8080/",
     "height": 578
    },
    "id": "TvmnLJKMRjmk",
    "outputId": "87f6ea56-ad08-4165-a3a3-0a17c5daf89a"
   },
   "outputs": [
    {
     "data": {
      "image/png": "[encoded data removed]",
      "text/plain": [
       "<Figure size 1440x720 with 1 Axes>"
      ]
     },
     "metadata": {
      "needs_background": "light"
     },
     "output_type": "display_data"
    }
   ],
   "source": [
    "#Plot the t-SNE output\n",
    "fig, ax = plt.subplots(figsize=(20,10))\n",
    "ax.scatter(Y[:, 0], Y[:, 1])\n",
    "words = list(wanted_vocab)\n",
    "for i, word in enumerate(words):\n",
    "    plt.annotate(word, xy=(Y[i, 0], Y[i, 1]))\n",
    "ax.set_yticklabels([]) #Hide ticks\n",
    "ax.set_xticklabels([]) #Hide ticks\n",
    "_ = plt.show()"
   ]
  },
  {
   "cell_type": "code",
   "execution_count": 61,
   "metadata": {
    "colab": {
     "base_uri": "https://localhost:8080/"
    },
    "id": "j6dhqRPLSGsd",
    "outputId": "9c0a167a-0b0f-4d61-f4a2-da5af38cca0a"
   },
   "outputs": [
    {
     "data": {
      "text/plain": [
       "[('and', 0.9983859658241272),\n",
       " ('the', 0.9980474710464478),\n",
       " ('difference', 0.9978622794151306),\n",
       " ('antenna', 0.9974787831306458),\n",
       " ('being', 0.9973992109298706)]"
      ]
     },
     "execution_count": 61,
     "metadata": {},
     "output_type": "execute_result"
    }
   ],
   "source": [
    "w1 = \"between\"\n",
    "model.wv.most_similar(positive=w1, topn=5)"
   ]
  },
  {
   "cell_type": "code",
   "execution_count": 63,
   "metadata": {
    "colab": {
     "base_uri": "https://localhost:8080/"
    },
    "id": "aJlz-tFeShqL",
    "outputId": "d6c18347-d31f-4faf-b527-a968786c9706"
   },
   "outputs": [
    {
     "data": {
      "text/plain": [
       "[('instagram', 0.999336838722229), ('doesn', 0.9993032217025757)]"
      ]
     },
     "execution_count": 63,
     "metadata": {},
     "output_type": "execute_result"
    }
   ],
   "source": [
    "w1 = [\"android\",\"bad\"]\n",
    "w2 = [\"youtube\"]\n",
    "model.wv.most_similar (positive=w1,negative=w2,topn=2)"
   ]
  },
  {
   "cell_type": "code",
   "execution_count": 64,
   "metadata": {
    "colab": {
     "base_uri": "https://localhost:8080/",
     "height": 36
    },
    "id": "V7u2rYB-Txe4",
    "outputId": "4f66f935-9150-4cbb-d69c-b1d13da5d9c1"
   },
   "outputs": [
    {
     "data": {
      "application/vnd.google.colaboratory.intrinsic+json": {
       "type": "string"
      },
      "text/plain": [
       "'china'"
      ]
     },
     "execution_count": 64,
     "metadata": {},
     "output_type": "execute_result"
    }
   ],
   "source": [
    "model.wv.doesnt_match([\"android\",\"youtube\",\"china\"])"
   ]
  },
  {
   "cell_type": "markdown",
   "metadata": {
    "id": "viclOuQzsV82"
   },
   "source": [
    "# New Section"
   ]
  }
 ],
 "metadata": {
  "colab": {
   "name": "day2 preprocess.ipynb",
   "provenance": []
  },
  "kernelspec": {
   "display_name": "Python 3 (ipykernel)",
   "language": "python",
   "name": "python3"
  },
  "language_info": {
   "codemirror_mode": {
    "name": "ipython",
    "version": 3
   },
   "file_extension": ".py",
   "mimetype": "text/x-python",
   "name": "python",
   "nbconvert_exporter": "python",
   "pygments_lexer": "ipython3",
   "version": "3.9.7"
  }
 },
 "nbformat": 4,
 "nbformat_minor": 1
}
